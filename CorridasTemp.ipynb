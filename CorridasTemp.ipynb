{
 "cells": [
  {
   "cell_type": "code",
   "execution_count": 1,
   "metadata": {},
   "outputs": [
    {
     "name": "stdout",
     "output_type": "stream",
     "text": [
      "   A  B\n",
      "x  1  4\n",
      "y  2  5\n",
      "z  3  6\n",
      "1\n",
      "0\n"
     ]
    }
   ],
   "source": [
    "import pandas as pd\n",
    "import numpy as np\n",
    "import matplotlib.pyplot as plt\n",
    "import pandas as pd\n",
    "\n",
    "# Create a simple dataframe\n",
    "df = pd.DataFrame({'A': [1, 2, 3],\n",
    "                   'B': [4, 5, 6]},\n",
    "                  index=['x', 'y', 'z'])\n",
    "print(df)\n",
    "# Get the label of the index at location 1\n",
    "print(df.index.get_loc('y'))  # Output: 1\n",
    "\n",
    "# Get the label of the index at location 0\n",
    "print(df.index.get_loc('x'))  # Output: 0\n",
    "\n"
   ]
  },
  {
   "cell_type": "code",
   "execution_count": 2,
   "metadata": {},
   "outputs": [
    {
     "name": "stdout",
     "output_type": "stream",
     "text": [
      "0, apple\n",
      "1, banana\n",
      "2, cherry\n"
     ]
    }
   ],
   "source": [
    "# use the 'enumerate' function to iterate over a list\n",
    "fruits = ['apple', 'banana', 'cherry']\n",
    "\n",
    "# use enumerate to print the index and value of each item\n",
    "for i, fruit in enumerate(fruits):\n",
    "    print(f'{i}, {fruit}')"
   ]
  },
  {
   "cell_type": "code",
   "execution_count": 3,
   "metadata": {},
   "outputs": [
    {
     "name": "stdout",
     "output_type": "stream",
     "text": [
      "a    1\n",
      "b    2\n",
      "c    3\n",
      "dtype: int64\n",
      "a\n"
     ]
    }
   ],
   "source": [
    "s = pd.Series([1, 2, 3], index=['a', 'b', 'c'])\n",
    "print(s)\n",
    "# print the indices\n",
    "print(s.index[0])"
   ]
  },
  {
   "cell_type": "code",
   "execution_count": 4,
   "metadata": {},
   "outputs": [
    {
     "name": "stdout",
     "output_type": "stream",
     "text": [
      "x    5\n",
      "y    2\n",
      "z    3\n",
      "dtype: int64\n",
      "Input Series is: x    5\n",
      "y    2\n",
      "z    3\n",
      "dtype: int64\n",
      "Cell value at 'y': 2\n"
     ]
    }
   ],
   "source": [
    "# create a pandas Series with custom indices\n",
    "s = pd.Series([5, 2, 3], index=['x', 'y', 'z'])\n",
    "print(s)\n",
    "# print the Series\n",
    "print(\"Input Series is:\", s)\n",
    "\n",
    "# get the value of the cell with index 'y'\n",
    "val = s.loc['y']\n",
    "\n",
    "# print the value\n",
    "print(\"Cell value at 'y':\", val)"
   ]
  },
  {
   "cell_type": "code",
   "execution_count": 5,
   "metadata": {},
   "outputs": [
    {
     "name": "stdout",
     "output_type": "stream",
     "text": [
      "   A  B\n",
      "0  1  a\n",
      "1  2  b\n",
      "2  3  c\n",
      "3  4  d\n",
      "4  5  e\n",
      "   A  B\n",
      "1  2  b\n",
      "3  4  d\n"
     ]
    }
   ],
   "source": [
    "# create a sample dataframe\n",
    "df = pd.DataFrame({\n",
    "   'A': [1, 2, 3, 4, 5],\n",
    "   'B': ['a', 'b', 'c', 'd', 'e']\n",
    "})\n",
    "print(df)\n",
    "# filter column 'A' using specific values\n",
    "filtered_df = df[df['A'].isin([2, 4])]\n",
    "\n",
    "# print the filtered dataframe\n",
    "print(filtered_df)"
   ]
  },
  {
   "cell_type": "code",
   "execution_count": 6,
   "metadata": {},
   "outputs": [
    {
     "name": "stdout",
     "output_type": "stream",
     "text": [
      "  Category  Values\n",
      "0        A      10\n",
      "1        B      15\n",
      "2        A       5\n",
      "3        A      20\n",
      "4        B      10\n",
      "5        B      10\n",
      "6        A       5\n",
      "7        B      20\n",
      "Category\n",
      "A    10.00\n",
      "B    13.75\n",
      "Name: Values, dtype: float64\n"
     ]
    }
   ],
   "source": [
    "# Create a sample dataframe\n",
    "data = {'Category': ['A', 'B', 'A', 'A', 'B', 'B', 'A', 'B'],\n",
    "        'Values': [10, 15, 5, 20, 10, 10, 5, 20]}\n",
    "df = pd.DataFrame(data)\n",
    "print(df)\n",
    "# Use groupby to group the dataframe by 'Category' and then calculate the mean of 'Values'\n",
    "grouped_mean = df.groupby('Category')['Values'].mean()\n",
    "\n",
    "print(grouped_mean)"
   ]
  },
  {
   "cell_type": "code",
   "execution_count": 7,
   "metadata": {},
   "outputs": [
    {
     "name": "stdout",
     "output_type": "stream",
     "text": [
      "   A  B  C   D\n",
      "0  1  4  7  10\n",
      "1  2  5  8  11\n",
      "2  3  6  9  12\n"
     ]
    },
    {
     "ename": "IndexError",
     "evalue": ".iloc requires numeric indexers, got ['A' 'C']",
     "output_type": "error",
     "traceback": [
      "\u001b[1;31m---------------------------------------------------------------------------\u001b[0m",
      "\u001b[1;31mIndexError\u001b[0m                                Traceback (most recent call last)",
      "Cell \u001b[1;32mIn[7], line 8\u001b[0m\n\u001b[0;32m      5\u001b[0m df \u001b[38;5;241m=\u001b[39m pd\u001b[38;5;241m.\u001b[39mDataFrame(data)\n\u001b[0;32m      6\u001b[0m \u001b[38;5;28mprint\u001b[39m(df)\n\u001b[1;32m----> 8\u001b[0m \u001b[38;5;28mprint\u001b[39m(\u001b[43mdf\u001b[49m\u001b[38;5;241;43m.\u001b[39;49m\u001b[43miloc\u001b[49m\u001b[43m[\u001b[49m\u001b[43m[\u001b[49m\u001b[38;5;124;43m'\u001b[39;49m\u001b[38;5;124;43mA\u001b[39;49m\u001b[38;5;124;43m'\u001b[39;49m\u001b[43m,\u001b[49m\u001b[43m \u001b[49m\u001b[38;5;124;43m'\u001b[39;49m\u001b[38;5;124;43mC\u001b[39;49m\u001b[38;5;124;43m'\u001b[39;49m\u001b[43m]\u001b[49m\u001b[43m,\u001b[49m\u001b[43m \u001b[49m\u001b[43m[\u001b[49m\u001b[38;5;241;43m1\u001b[39;49m\u001b[43m,\u001b[49m\u001b[43m \u001b[49m\u001b[38;5;241;43m3\u001b[39;49m\u001b[43m]\u001b[49m\u001b[43m]\u001b[49m)\n",
      "File \u001b[1;32mc:\\Users\\gfern\\OneDrive\\Escritorio\\4GeeksAcademy\\4Genv\\Lib\\site-packages\\pandas\\core\\indexing.py:1184\u001b[0m, in \u001b[0;36m_LocationIndexer.__getitem__\u001b[1;34m(self, key)\u001b[0m\n\u001b[0;32m   1182\u001b[0m     \u001b[38;5;28;01mif\u001b[39;00m \u001b[38;5;28mself\u001b[39m\u001b[38;5;241m.\u001b[39m_is_scalar_access(key):\n\u001b[0;32m   1183\u001b[0m         \u001b[38;5;28;01mreturn\u001b[39;00m \u001b[38;5;28mself\u001b[39m\u001b[38;5;241m.\u001b[39mobj\u001b[38;5;241m.\u001b[39m_get_value(\u001b[38;5;241m*\u001b[39mkey, takeable\u001b[38;5;241m=\u001b[39m\u001b[38;5;28mself\u001b[39m\u001b[38;5;241m.\u001b[39m_takeable)\n\u001b[1;32m-> 1184\u001b[0m     \u001b[38;5;28;01mreturn\u001b[39;00m \u001b[38;5;28;43mself\u001b[39;49m\u001b[38;5;241;43m.\u001b[39;49m\u001b[43m_getitem_tuple\u001b[49m\u001b[43m(\u001b[49m\u001b[43mkey\u001b[49m\u001b[43m)\u001b[49m\n\u001b[0;32m   1185\u001b[0m \u001b[38;5;28;01melse\u001b[39;00m:\n\u001b[0;32m   1186\u001b[0m     \u001b[38;5;66;03m# we by definition only have the 0th axis\u001b[39;00m\n\u001b[0;32m   1187\u001b[0m     axis \u001b[38;5;241m=\u001b[39m \u001b[38;5;28mself\u001b[39m\u001b[38;5;241m.\u001b[39maxis \u001b[38;5;129;01mor\u001b[39;00m \u001b[38;5;241m0\u001b[39m\n",
      "File \u001b[1;32mc:\\Users\\gfern\\OneDrive\\Escritorio\\4GeeksAcademy\\4Genv\\Lib\\site-packages\\pandas\\core\\indexing.py:1690\u001b[0m, in \u001b[0;36m_iLocIndexer._getitem_tuple\u001b[1;34m(self, tup)\u001b[0m\n\u001b[0;32m   1689\u001b[0m \u001b[38;5;28;01mdef\u001b[39;00m \u001b[38;5;21m_getitem_tuple\u001b[39m(\u001b[38;5;28mself\u001b[39m, tup: \u001b[38;5;28mtuple\u001b[39m):\n\u001b[1;32m-> 1690\u001b[0m     tup \u001b[38;5;241m=\u001b[39m \u001b[38;5;28;43mself\u001b[39;49m\u001b[38;5;241;43m.\u001b[39;49m\u001b[43m_validate_tuple_indexer\u001b[49m\u001b[43m(\u001b[49m\u001b[43mtup\u001b[49m\u001b[43m)\u001b[49m\n\u001b[0;32m   1691\u001b[0m     \u001b[38;5;28;01mwith\u001b[39;00m suppress(IndexingError):\n\u001b[0;32m   1692\u001b[0m         \u001b[38;5;28;01mreturn\u001b[39;00m \u001b[38;5;28mself\u001b[39m\u001b[38;5;241m.\u001b[39m_getitem_lowerdim(tup)\n",
      "File \u001b[1;32mc:\\Users\\gfern\\OneDrive\\Escritorio\\4GeeksAcademy\\4Genv\\Lib\\site-packages\\pandas\\core\\indexing.py:966\u001b[0m, in \u001b[0;36m_LocationIndexer._validate_tuple_indexer\u001b[1;34m(self, key)\u001b[0m\n\u001b[0;32m    964\u001b[0m \u001b[38;5;28;01mfor\u001b[39;00m i, k \u001b[38;5;129;01min\u001b[39;00m \u001b[38;5;28menumerate\u001b[39m(key):\n\u001b[0;32m    965\u001b[0m     \u001b[38;5;28;01mtry\u001b[39;00m:\n\u001b[1;32m--> 966\u001b[0m         \u001b[38;5;28;43mself\u001b[39;49m\u001b[38;5;241;43m.\u001b[39;49m\u001b[43m_validate_key\u001b[49m\u001b[43m(\u001b[49m\u001b[43mk\u001b[49m\u001b[43m,\u001b[49m\u001b[43m \u001b[49m\u001b[43mi\u001b[49m\u001b[43m)\u001b[49m\n\u001b[0;32m    967\u001b[0m     \u001b[38;5;28;01mexcept\u001b[39;00m \u001b[38;5;167;01mValueError\u001b[39;00m \u001b[38;5;28;01mas\u001b[39;00m err:\n\u001b[0;32m    968\u001b[0m         \u001b[38;5;28;01mraise\u001b[39;00m \u001b[38;5;167;01mValueError\u001b[39;00m(\n\u001b[0;32m    969\u001b[0m             \u001b[38;5;124m\"\u001b[39m\u001b[38;5;124mLocation based indexing can only have \u001b[39m\u001b[38;5;124m\"\u001b[39m\n\u001b[0;32m    970\u001b[0m             \u001b[38;5;124mf\u001b[39m\u001b[38;5;124m\"\u001b[39m\u001b[38;5;124m[\u001b[39m\u001b[38;5;132;01m{\u001b[39;00m\u001b[38;5;28mself\u001b[39m\u001b[38;5;241m.\u001b[39m_valid_types\u001b[38;5;132;01m}\u001b[39;00m\u001b[38;5;124m] types\u001b[39m\u001b[38;5;124m\"\u001b[39m\n\u001b[0;32m    971\u001b[0m         ) \u001b[38;5;28;01mfrom\u001b[39;00m \u001b[38;5;21;01merr\u001b[39;00m\n",
      "File \u001b[1;32mc:\\Users\\gfern\\OneDrive\\Escritorio\\4GeeksAcademy\\4Genv\\Lib\\site-packages\\pandas\\core\\indexing.py:1608\u001b[0m, in \u001b[0;36m_iLocIndexer._validate_key\u001b[1;34m(self, key, axis)\u001b[0m\n\u001b[0;32m   1606\u001b[0m \u001b[38;5;66;03m# check that the key has a numeric dtype\u001b[39;00m\n\u001b[0;32m   1607\u001b[0m \u001b[38;5;28;01mif\u001b[39;00m \u001b[38;5;129;01mnot\u001b[39;00m is_numeric_dtype(arr\u001b[38;5;241m.\u001b[39mdtype):\n\u001b[1;32m-> 1608\u001b[0m     \u001b[38;5;28;01mraise\u001b[39;00m \u001b[38;5;167;01mIndexError\u001b[39;00m(\u001b[38;5;124mf\u001b[39m\u001b[38;5;124m\"\u001b[39m\u001b[38;5;124m.iloc requires numeric indexers, got \u001b[39m\u001b[38;5;132;01m{\u001b[39;00marr\u001b[38;5;132;01m}\u001b[39;00m\u001b[38;5;124m\"\u001b[39m)\n\u001b[0;32m   1610\u001b[0m \u001b[38;5;66;03m# check that the key does not exceed the maximum size of the index\u001b[39;00m\n\u001b[0;32m   1611\u001b[0m \u001b[38;5;28;01mif\u001b[39;00m \u001b[38;5;28mlen\u001b[39m(arr) \u001b[38;5;129;01mand\u001b[39;00m (arr\u001b[38;5;241m.\u001b[39mmax() \u001b[38;5;241m>\u001b[39m\u001b[38;5;241m=\u001b[39m len_axis \u001b[38;5;129;01mor\u001b[39;00m arr\u001b[38;5;241m.\u001b[39mmin() \u001b[38;5;241m<\u001b[39m \u001b[38;5;241m-\u001b[39mlen_axis):\n",
      "\u001b[1;31mIndexError\u001b[0m: .iloc requires numeric indexers, got ['A' 'C']"
     ]
    }
   ],
   "source": [
    "data = {'A': [1, 2, 3],\n",
    "        'B': [4, 5, 6],\n",
    "        'C': [7, 8, 9],\n",
    "        'D': [10, 11, 12]}\n",
    "df = pd.DataFrame(data)\n",
    "print(df)\n",
    "\n",
    "print(df.iloc[['A', 'C'], [1, 3]])"
   ]
  },
  {
   "cell_type": "code",
   "execution_count": null,
   "metadata": {},
   "outputs": [
    {
     "name": "stdout",
     "output_type": "stream",
     "text": [
      "           A         B         C         D\n",
      "0   1.452954 -1.090261  0.278088  1.247208\n",
      "1  -0.514295  1.585670  0.037765 -1.333223\n",
      "2  -1.376137 -1.289148 -0.236890 -0.473079\n",
      "3  -0.120845  0.591236 -0.734701  1.261309\n",
      "4  -1.038895 -0.367037  1.256545 -0.219266\n",
      "5  -0.251995  1.043252 -1.301176 -0.374374\n",
      "6  -0.420617 -1.777325  0.810231  0.161453\n",
      "7   1.921346 -0.511681  1.273711  1.247208\n",
      "8  -0.233260 -0.150069  1.308043 -1.051208\n",
      "9   0.984561  0.717801  0.707236  0.894690\n",
      "10 -1.170045  1.549509 -1.575831  1.148503\n",
      "11  0.609847 -1.361470 -1.198181  0.669079\n",
      "12  1.284333  0.121140  1.411038 -1.065309\n",
      "13 -1.132573  0.374269  0.466913  0.852388\n",
      "14 -0.776595  0.464672 -1.078020 -1.220417\n",
      "15 -0.289467  0.446591  0.072097 -0.867899\n",
      "16  1.715254 -1.379551  0.329586 -1.446028\n",
      "17 -0.551766  1.115574 -0.751867 -0.966604\n",
      "18  0.141455  0.211543 -1.541499  0.993395\n",
      "19 -0.233260 -0.294714  0.466913  0.542172\n"
     ]
    }
   ],
   "source": [
    "import pandas as pd\n",
    "import numpy as np\n",
    "\n",
    "np.random.seed(0)\n",
    "\n",
    "df = pd.DataFrame(np.random.randint(-100, 100, size=(20, 4)), columns=list(\"ABCD\"))\n",
    "\n",
    "\n",
    "def mean_norm(df_input):\n",
    "    return df_input.apply(lambda x: (x - x.mean()) / x.std(), axis=0)\n",
    "\n",
    "\n",
    "df_mean_norm = mean_norm(df)\n",
    "print(df_mean_norm)"
   ]
  },
  {
   "cell_type": "code",
   "execution_count": null,
   "metadata": {},
   "outputs": [
    {
     "name": "stdout",
     "output_type": "stream",
     "text": [
      "    Name  Age  Score\n",
      "0   John   28     85\n",
      "1   Anna   24     90\n",
      "2  Peter   35     77\n",
      "3  Linda   32     92\n"
     ]
    }
   ],
   "source": [
    "data = {'Name': ['John', 'Anna', 'Peter', 'Linda'],\n",
    "        'Age': [28, 24, 35, 32],\n",
    "        'Score': [85, 90, 77, 92]}\n",
    "\n",
    "df = pd.DataFrame(data)\n",
    "print(df)"
   ]
  },
  {
   "cell_type": "code",
   "execution_count": null,
   "metadata": {},
   "outputs": [
    {
     "name": "stdout",
     "output_type": "stream",
     "text": [
      "{0: 0, 1: 1, 2: 4, 3: 9, 4: 16}\n",
      "{'a': 1, 'b': 3, 'c': 4}\n",
      "[(40.71,  -74.01) (34.05,  -87.63) (41.85,  -87.68) (37.77, -122.41)\n",
      " (34.5 , -118.29)]\n",
      "<class 'numpy.ndarray'>\n",
      "(5,)\n",
      "[3.44, 7.8, 9.12, 100.2, 6.5]\n"
     ]
    }
   ],
   "source": [
    "import random\n",
    "import numpy as np\n",
    "\n",
    "squares_dict = dict([(i, i**2) for i in range(5)])\n",
    "print(squares_dict)\n",
    "\n",
    "dict1 = {'a': 1, 'b': 2}\n",
    "dict2 = {'b': 3, 'c': 4}\n",
    "dict1.update(dict2)\n",
    "print(dict1)\n",
    "\n",
    "\n",
    "# Define the lists\n",
    "latitudes = [40.71, 34.05, 41.85, 37.77, 34.50]\n",
    "longitudes = [-74.01, -87.63, -87.68, -122.41, -118.29]\n",
    "\n",
    "# Create a structured array with named columns\n",
    "arr = np.array(list(zip(latitudes, longitudes)), dtype=[('latitude', 'f8'), ('longitude', 'f8')])\n",
    "\n",
    "# Print the array\n",
    "print(arr)\n",
    "print(type(arr))\n",
    "print(arr.shape)\n",
    "\n",
    "string_values = ['3.44', '7.8', '9.12', '100.2', '6.50']\n",
    "float_values = [float(value) for value in string_values]\n",
    "print(float_values)"
   ]
  },
  {
   "cell_type": "code",
   "execution_count": 14,
   "metadata": {},
   "outputs": [
    {
     "name": "stdout",
     "output_type": "stream",
     "text": [
      "7\n"
     ]
    }
   ],
   "source": [
    "a=[5,9,2,7]\n",
    "print (a[3])\n",
    "\n"
   ]
  },
  {
   "cell_type": "code",
   "execution_count": 15,
   "metadata": {},
   "outputs": [
    {
     "data": {
      "text/html": [
       "<div style=\"width:100%;\"><div style=\"position:relative;width:100%;height:0;padding-bottom:60%;\"><span style=\"color:#565656\">Make this Notebook Trusted to load map: File -> Trust Notebook</span><iframe srcdoc=\"&lt;!DOCTYPE html&gt;\n",
       "&lt;html&gt;\n",
       "&lt;head&gt;\n",
       "    \n",
       "    &lt;meta http-equiv=&quot;content-type&quot; content=&quot;text/html; charset=UTF-8&quot; /&gt;\n",
       "    \n",
       "        &lt;script&gt;\n",
       "            L_NO_TOUCH = false;\n",
       "            L_DISABLE_3D = false;\n",
       "        &lt;/script&gt;\n",
       "    \n",
       "    &lt;style&gt;html, body {width: 100%;height: 100%;margin: 0;padding: 0;}&lt;/style&gt;\n",
       "    &lt;style&gt;#map {position:absolute;top:0;bottom:0;right:0;left:0;}&lt;/style&gt;\n",
       "    &lt;script src=&quot;https://cdn.jsdelivr.net/npm/leaflet@1.9.3/dist/leaflet.js&quot;&gt;&lt;/script&gt;\n",
       "    &lt;script src=&quot;https://code.jquery.com/jquery-3.7.1.min.js&quot;&gt;&lt;/script&gt;\n",
       "    &lt;script src=&quot;https://cdn.jsdelivr.net/npm/bootstrap@5.2.2/dist/js/bootstrap.bundle.min.js&quot;&gt;&lt;/script&gt;\n",
       "    &lt;script src=&quot;https://cdnjs.cloudflare.com/ajax/libs/Leaflet.awesome-markers/2.0.2/leaflet.awesome-markers.js&quot;&gt;&lt;/script&gt;\n",
       "    &lt;link rel=&quot;stylesheet&quot; href=&quot;https://cdn.jsdelivr.net/npm/leaflet@1.9.3/dist/leaflet.css&quot;/&gt;\n",
       "    &lt;link rel=&quot;stylesheet&quot; href=&quot;https://cdn.jsdelivr.net/npm/bootstrap@5.2.2/dist/css/bootstrap.min.css&quot;/&gt;\n",
       "    &lt;link rel=&quot;stylesheet&quot; href=&quot;https://netdna.bootstrapcdn.com/bootstrap/3.0.0/css/bootstrap.min.css&quot;/&gt;\n",
       "    &lt;link rel=&quot;stylesheet&quot; href=&quot;https://cdn.jsdelivr.net/npm/@fortawesome/fontawesome-free@6.2.0/css/all.min.css&quot;/&gt;\n",
       "    &lt;link rel=&quot;stylesheet&quot; href=&quot;https://cdnjs.cloudflare.com/ajax/libs/Leaflet.awesome-markers/2.0.2/leaflet.awesome-markers.css&quot;/&gt;\n",
       "    &lt;link rel=&quot;stylesheet&quot; href=&quot;https://cdn.jsdelivr.net/gh/python-visualization/folium/folium/templates/leaflet.awesome.rotate.min.css&quot;/&gt;\n",
       "    \n",
       "            &lt;meta name=&quot;viewport&quot; content=&quot;width=device-width,\n",
       "                initial-scale=1.0, maximum-scale=1.0, user-scalable=no&quot; /&gt;\n",
       "            &lt;style&gt;\n",
       "                #map_b1d07bf9ce37f172e3c147de22d97266 {\n",
       "                    position: relative;\n",
       "                    width: 100.0%;\n",
       "                    height: 100.0%;\n",
       "                    left: 0.0%;\n",
       "                    top: 0.0%;\n",
       "                }\n",
       "                .leaflet-container { font-size: 1rem; }\n",
       "            &lt;/style&gt;\n",
       "        \n",
       "&lt;/head&gt;\n",
       "&lt;body&gt;\n",
       "    \n",
       "    \n",
       "            &lt;div class=&quot;folium-map&quot; id=&quot;map_b1d07bf9ce37f172e3c147de22d97266&quot; &gt;&lt;/div&gt;\n",
       "        \n",
       "&lt;/body&gt;\n",
       "&lt;script&gt;\n",
       "    \n",
       "    \n",
       "            var map_b1d07bf9ce37f172e3c147de22d97266 = L.map(\n",
       "                &quot;map_b1d07bf9ce37f172e3c147de22d97266&quot;,\n",
       "                {\n",
       "                    center: [4.570868, -74.297333],\n",
       "                    crs: L.CRS.EPSG3857,\n",
       "                    zoom: 7,\n",
       "                    zoomControl: true,\n",
       "                    preferCanvas: false,\n",
       "                }\n",
       "            );\n",
       "\n",
       "            \n",
       "\n",
       "        \n",
       "    \n",
       "            var tile_layer_c889ab6e7ff1d28bf3c60ac263117dc6 = L.tileLayer(\n",
       "                &quot;https://tile.openstreetmap.org/{z}/{x}/{y}.png&quot;,\n",
       "                {&quot;attribution&quot;: &quot;\\u0026copy; \\u003ca href=\\&quot;https://www.openstreetmap.org/copyright\\&quot;\\u003eOpenStreetMap\\u003c/a\\u003e contributors&quot;, &quot;detectRetina&quot;: false, &quot;maxNativeZoom&quot;: 19, &quot;maxZoom&quot;: 19, &quot;minZoom&quot;: 0, &quot;noWrap&quot;: false, &quot;opacity&quot;: 1, &quot;subdomains&quot;: &quot;abc&quot;, &quot;tms&quot;: false}\n",
       "            );\n",
       "        \n",
       "    \n",
       "            tile_layer_c889ab6e7ff1d28bf3c60ac263117dc6.addTo(map_b1d07bf9ce37f172e3c147de22d97266);\n",
       "        \n",
       "    \n",
       "            var marker_02f86b2f210ee40e8d46db1ffcc73ce9 = L.marker(\n",
       "                [6.217, -75.567],\n",
       "                {}\n",
       "            ).addTo(map_b1d07bf9ce37f172e3c147de22d97266);\n",
       "        \n",
       "    \n",
       "            var icon_c123295711bab533dc943865e11481c9 = L.AwesomeMarkers.icon(\n",
       "                {&quot;extraClasses&quot;: &quot;fa-rotate-0&quot;, &quot;icon&quot;: &quot;star&quot;, &quot;iconColor&quot;: &quot;white&quot;, &quot;markerColor&quot;: &quot;blue&quot;, &quot;prefix&quot;: &quot;glyphicon&quot;}\n",
       "            );\n",
       "            marker_02f86b2f210ee40e8d46db1ffcc73ce9.setIcon(icon_c123295711bab533dc943865e11481c9);\n",
       "        \n",
       "    \n",
       "        var popup_6fc6792fe785e21ffed47e7db0980d7b = L.popup({&quot;maxWidth&quot;: &quot;100%&quot;});\n",
       "\n",
       "        \n",
       "            \n",
       "                var html_e4b657c3f08c791ba85582ccc9e97f63 = $(`&lt;div id=&quot;html_e4b657c3f08c791ba85582ccc9e97f63&quot; style=&quot;width: 100.0%; height: 100.0%;&quot;&gt;Este es Medellín&lt;/div&gt;`)[0];\n",
       "                popup_6fc6792fe785e21ffed47e7db0980d7b.setContent(html_e4b657c3f08c791ba85582ccc9e97f63);\n",
       "            \n",
       "        \n",
       "\n",
       "        marker_02f86b2f210ee40e8d46db1ffcc73ce9.bindPopup(popup_6fc6792fe785e21ffed47e7db0980d7b)\n",
       "        ;\n",
       "\n",
       "        \n",
       "    \n",
       "&lt;/script&gt;\n",
       "&lt;/html&gt;\" style=\"position:absolute;width:100%;height:100%;left:0;top:0;border:none !important;\" allowfullscreen webkitallowfullscreen mozallowfullscreen></iframe></div></div>"
      ],
      "text/plain": [
       "<folium.folium.Map at 0x18db7ff9c10>"
      ]
     },
     "execution_count": 15,
     "metadata": {},
     "output_type": "execute_result"
    }
   ],
   "source": [
    "import folium\n",
    "#Localizar punto en el mapa\n",
    "mapa = folium.Map(location = [4.570868, -74.297333],zoom_start=7)\n",
    "#Añadir marcador, un texto al hacer click en este (popup) y añadir un icono al marcador (icon).\n",
    "folium.Marker(location=[6.217, -75.567], popup='Este es Medellín', icon=folium.Icon(icon='star')).add_to(mapa)\n",
    "mapa"
   ]
  },
  {
   "cell_type": "markdown",
   "metadata": {},
   "source": []
  },
  {
   "cell_type": "code",
   "execution_count": 17,
   "metadata": {},
   "outputs": [
    {
     "name": "stdout",
     "output_type": "stream",
     "text": [
      "   col1 col2  col3\n",
      "0     1    a   1.1\n",
      "1     2    b   2.2\n",
      "2     3    a   1.1\n",
      "3     2    b   2.2\n",
      "4     2    a   1.1\n",
      "The value 2 appears 3 times in column col1\n",
      "The value 2 appears 0 times in column col2\n",
      "The value 2 appears 0 times in column col3\n"
     ]
    }
   ],
   "source": [
    "import pandas as pd\n",
    "\n",
    "# create a sample DataFrame\n",
    "df = pd.DataFrame({\n",
    "    'col1': [1, 2, 3, 2, 2],\n",
    "    'col2': ['a', 'b', 'a', 'b', 'a'],\n",
    "    'col3': [1.1, 2.2, 1.1, 2.2, 1.1]\n",
    "})\n",
    "print(df)\n",
    "value_to_find = 2\n",
    "\n",
    "# loop through all columns\n",
    "for col in df.columns:\n",
    "    # count the occurrences of the value in the current column\n",
    "    count = (df[col] == value_to_find).sum()\n",
    "    # print the result\n",
    "    print(f\"The value {value_to_find} appears {count} times in column {col}\")\n"
   ]
  }
 ],
 "metadata": {
  "kernelspec": {
   "display_name": "4Genv",
   "language": "python",
   "name": "python3"
  },
  "language_info": {
   "codemirror_mode": {
    "name": "ipython",
    "version": 3
   },
   "file_extension": ".py",
   "mimetype": "text/x-python",
   "name": "python",
   "nbconvert_exporter": "python",
   "pygments_lexer": "ipython3",
   "version": "3.12.2"
  }
 },
 "nbformat": 4,
 "nbformat_minor": 2
}
